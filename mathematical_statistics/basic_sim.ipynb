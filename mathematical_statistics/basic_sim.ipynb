{
 "cells": [
  {
   "cell_type": "markdown",
   "id": "7e0fbba0-c0e6-45eb-8c72-1f1d23d05ec8",
   "metadata": {},
   "source": [
    "# Simulation\n",
    "\n",
    "Goal: P(A for even A\n",
    "\n",
    "Perform an indepdent trial, record if A occurs.\n",
    "\n",
    "Repeat n times. $p$ = proprotion of simulation A occured.\n",
    "\n",
    "Create confidence interval"
   ]
  },
  {
   "cell_type": "code",
   "execution_count": 1,
   "id": "ede06a46-15b9-417a-8f9f-3e0b39bc295e",
   "metadata": {},
   "outputs": [],
   "source": [
    "import numpy as np\n",
    "import matplotlib.pyplot as plt \n"
   ]
  },
  {
   "cell_type": "code",
   "execution_count": 21,
   "id": "ddb5b6bd-5dc1-4e92-b508-c12e91148d29",
   "metadata": {},
   "outputs": [
    {
     "data": {
      "text/plain": [
       "0.409"
      ]
     },
     "execution_count": 21,
     "metadata": {},
     "output_type": "execute_result"
    }
   ],
   "source": [
    "def roll_dice():\n",
    "    return np.random.randint(1,7,1)[0]\n",
    "\n",
    "def toss_coin():\n",
    "    return np.random.randint(1,3,1)[0]\n",
    "\n",
    "def play_game():\n",
    "    while True:\n",
    "        coin = toss_coin()\n",
    "        if coin == 1:\n",
    "            return 0 \n",
    "            \n",
    "        dice = roll_dice()\n",
    "        if dice in [1,2,3,4]:\n",
    "            return 1\n",
    "        \n",
    "\n",
    "N = 10000\n",
    "sim = np.array([play_game() for _ in range(1000)])\n",
    "np.mean(sim)"
   ]
  },
  {
   "cell_type": "code",
   "execution_count": 13,
   "id": "8992eaaa-3e60-461e-85c4-f4f7d12b1f13",
   "metadata": {},
   "outputs": [
    {
     "data": {
      "text/plain": [
       "0.6"
      ]
     },
     "execution_count": 13,
     "metadata": {},
     "output_type": "execute_result"
    }
   ],
   "source": [
    "3/5"
   ]
  },
  {
   "cell_type": "code",
   "execution_count": null,
   "id": "e8685c11-7de0-41b1-9323-4e830b229fe1",
   "metadata": {},
   "outputs": [],
   "source": []
  }
 ],
 "metadata": {
  "kernelspec": {
   "display_name": "Python 3 (ipykernel)",
   "language": "python",
   "name": "python3"
  },
  "language_info": {
   "codemirror_mode": {
    "name": "ipython",
    "version": 3
   },
   "file_extension": ".py",
   "mimetype": "text/x-python",
   "name": "python",
   "nbconvert_exporter": "python",
   "pygments_lexer": "ipython3",
   "version": "3.12.2"
  }
 },
 "nbformat": 4,
 "nbformat_minor": 5
}
