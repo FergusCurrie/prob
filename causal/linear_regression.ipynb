{
 "cells": [
  {
   "cell_type": "code",
   "execution_count": 1,
   "id": "ec0a0af6-eb7b-41ae-87eb-f04bb03f90d5",
   "metadata": {},
   "outputs": [],
   "source": [
    "from data_loader import load \n",
    "\n",
    "import numpy as np\n",
    "import matplotlib.pyplot as plt \n",
    "plt.style.use('dark_background')\n",
    "import seaborn as sns\n",
    "import pandas as pd \n",
    "from scipy import stats\n",
    "\n",
    "import statsmodels.api as sm\n",
    "import statsmodels.formula.api as smf"
   ]
  },
  {
   "cell_type": "code",
   "execution_count": 2,
   "id": "ed308c62-e12f-44e1-a911-4c9bebd94a20",
   "metadata": {},
   "outputs": [
    {
     "data": {
      "text/html": [
       "<div>\n",
       "<style scoped>\n",
       "    .dataframe tbody tr th:only-of-type {\n",
       "        vertical-align: middle;\n",
       "    }\n",
       "\n",
       "    .dataframe tbody tr th {\n",
       "        vertical-align: top;\n",
       "    }\n",
       "\n",
       "    .dataframe thead th {\n",
       "        text-align: right;\n",
       "    }\n",
       "</style>\n",
       "<table border=\"1\" class=\"dataframe\">\n",
       "  <thead>\n",
       "    <tr style=\"text-align: right;\">\n",
       "      <th></th>\n",
       "      <th>gender</th>\n",
       "      <th>asian</th>\n",
       "      <th>black</th>\n",
       "      <th>hawaiian</th>\n",
       "      <th>hispanic</th>\n",
       "      <th>unknown</th>\n",
       "      <th>white</th>\n",
       "      <th>format_ol</th>\n",
       "      <th>format_blended</th>\n",
       "      <th>falsexam</th>\n",
       "    </tr>\n",
       "  </thead>\n",
       "  <tbody>\n",
       "    <tr>\n",
       "      <th>0</th>\n",
       "      <td>0</td>\n",
       "      <td>0.0</td>\n",
       "      <td>0.0</td>\n",
       "      <td>0.0</td>\n",
       "      <td>0.0</td>\n",
       "      <td>0.0</td>\n",
       "      <td>1.0</td>\n",
       "      <td>0</td>\n",
       "      <td>0.0</td>\n",
       "      <td>63.29997</td>\n",
       "    </tr>\n",
       "    <tr>\n",
       "      <th>1</th>\n",
       "      <td>1</td>\n",
       "      <td>0.0</td>\n",
       "      <td>0.0</td>\n",
       "      <td>0.0</td>\n",
       "      <td>0.0</td>\n",
       "      <td>0.0</td>\n",
       "      <td>1.0</td>\n",
       "      <td>0</td>\n",
       "      <td>0.0</td>\n",
       "      <td>79.96000</td>\n",
       "    </tr>\n",
       "    <tr>\n",
       "      <th>4</th>\n",
       "      <td>1</td>\n",
       "      <td>0.0</td>\n",
       "      <td>0.0</td>\n",
       "      <td>0.0</td>\n",
       "      <td>0.0</td>\n",
       "      <td>0.0</td>\n",
       "      <td>1.0</td>\n",
       "      <td>1</td>\n",
       "      <td>0.0</td>\n",
       "      <td>83.30000</td>\n",
       "    </tr>\n",
       "    <tr>\n",
       "      <th>5</th>\n",
       "      <td>0</td>\n",
       "      <td>1.0</td>\n",
       "      <td>0.0</td>\n",
       "      <td>0.0</td>\n",
       "      <td>0.0</td>\n",
       "      <td>0.0</td>\n",
       "      <td>0.0</td>\n",
       "      <td>1</td>\n",
       "      <td>0.0</td>\n",
       "      <td>88.34996</td>\n",
       "    </tr>\n",
       "    <tr>\n",
       "      <th>7</th>\n",
       "      <td>1</td>\n",
       "      <td>1.0</td>\n",
       "      <td>0.0</td>\n",
       "      <td>0.0</td>\n",
       "      <td>0.0</td>\n",
       "      <td>0.0</td>\n",
       "      <td>0.0</td>\n",
       "      <td>0</td>\n",
       "      <td>0.0</td>\n",
       "      <td>90.00000</td>\n",
       "    </tr>\n",
       "    <tr>\n",
       "      <th>...</th>\n",
       "      <td>...</td>\n",
       "      <td>...</td>\n",
       "      <td>...</td>\n",
       "      <td>...</td>\n",
       "      <td>...</td>\n",
       "      <td>...</td>\n",
       "      <td>...</td>\n",
       "      <td>...</td>\n",
       "      <td>...</td>\n",
       "      <td>...</td>\n",
       "    </tr>\n",
       "    <tr>\n",
       "      <th>316</th>\n",
       "      <td>0</td>\n",
       "      <td>0.0</td>\n",
       "      <td>0.0</td>\n",
       "      <td>0.0</td>\n",
       "      <td>0.0</td>\n",
       "      <td>0.0</td>\n",
       "      <td>1.0</td>\n",
       "      <td>0</td>\n",
       "      <td>0.0</td>\n",
       "      <td>91.65000</td>\n",
       "    </tr>\n",
       "    <tr>\n",
       "      <th>317</th>\n",
       "      <td>1</td>\n",
       "      <td>NaN</td>\n",
       "      <td>NaN</td>\n",
       "      <td>NaN</td>\n",
       "      <td>NaN</td>\n",
       "      <td>NaN</td>\n",
       "      <td>NaN</td>\n",
       "      <td>0</td>\n",
       "      <td>0.0</td>\n",
       "      <td>84.99000</td>\n",
       "    </tr>\n",
       "    <tr>\n",
       "      <th>319</th>\n",
       "      <td>1</td>\n",
       "      <td>NaN</td>\n",
       "      <td>NaN</td>\n",
       "      <td>NaN</td>\n",
       "      <td>NaN</td>\n",
       "      <td>NaN</td>\n",
       "      <td>NaN</td>\n",
       "      <td>1</td>\n",
       "      <td>0.0</td>\n",
       "      <td>70.05000</td>\n",
       "    </tr>\n",
       "    <tr>\n",
       "      <th>320</th>\n",
       "      <td>0</td>\n",
       "      <td>NaN</td>\n",
       "      <td>NaN</td>\n",
       "      <td>NaN</td>\n",
       "      <td>NaN</td>\n",
       "      <td>NaN</td>\n",
       "      <td>NaN</td>\n",
       "      <td>1</td>\n",
       "      <td>0.0</td>\n",
       "      <td>66.69000</td>\n",
       "    </tr>\n",
       "    <tr>\n",
       "      <th>321</th>\n",
       "      <td>1</td>\n",
       "      <td>NaN</td>\n",
       "      <td>NaN</td>\n",
       "      <td>NaN</td>\n",
       "      <td>NaN</td>\n",
       "      <td>NaN</td>\n",
       "      <td>NaN</td>\n",
       "      <td>1</td>\n",
       "      <td>0.0</td>\n",
       "      <td>83.29997</td>\n",
       "    </tr>\n",
       "  </tbody>\n",
       "</table>\n",
       "<p>214 rows × 10 columns</p>\n",
       "</div>"
      ],
      "text/plain": [
       "     gender  asian  black  hawaiian  hispanic  unknown  white  format_ol  \\\n",
       "0         0    0.0    0.0       0.0       0.0      0.0    1.0          0   \n",
       "1         1    0.0    0.0       0.0       0.0      0.0    1.0          0   \n",
       "4         1    0.0    0.0       0.0       0.0      0.0    1.0          1   \n",
       "5         0    1.0    0.0       0.0       0.0      0.0    0.0          1   \n",
       "7         1    1.0    0.0       0.0       0.0      0.0    0.0          0   \n",
       "..      ...    ...    ...       ...       ...      ...    ...        ...   \n",
       "316       0    0.0    0.0       0.0       0.0      0.0    1.0          0   \n",
       "317       1    NaN    NaN       NaN       NaN      NaN    NaN          0   \n",
       "319       1    NaN    NaN       NaN       NaN      NaN    NaN          1   \n",
       "320       0    NaN    NaN       NaN       NaN      NaN    NaN          1   \n",
       "321       1    NaN    NaN       NaN       NaN      NaN    NaN          1   \n",
       "\n",
       "     format_blended  falsexam  \n",
       "0               0.0  63.29997  \n",
       "1               0.0  79.96000  \n",
       "4               0.0  83.30000  \n",
       "5               0.0  88.34996  \n",
       "7               0.0  90.00000  \n",
       "..              ...       ...  \n",
       "316             0.0  91.65000  \n",
       "317             0.0  84.99000  \n",
       "319             0.0  70.05000  \n",
       "320             0.0  66.69000  \n",
       "321             0.0  83.29997  \n",
       "\n",
       "[214 rows x 10 columns]"
      ]
     },
     "execution_count": 2,
     "metadata": {},
     "output_type": "execute_result"
    }
   ],
   "source": [
    "data = load(\"online_classroom.csv\").query(\"format_blended==0\")\n",
    "data\n"
   ]
  },
  {
   "cell_type": "code",
   "execution_count": 3,
   "id": "ef211fc5-1945-487a-9d70-98d6f5dd1154",
   "metadata": {},
   "outputs": [
    {
     "data": {
      "text/html": [
       "<table class=\"simpletable\">\n",
       "<tr>\n",
       "      <td></td>         <th>coef</th>     <th>std err</th>      <th>t</th>      <th>P>|t|</th>  <th>[0.025</th>    <th>0.975]</th>  \n",
       "</tr>\n",
       "<tr>\n",
       "  <th>Intercept</th> <td>   78.5475</td> <td>    1.113</td> <td>   70.563</td> <td> 0.000</td> <td>   76.353</td> <td>   80.742</td>\n",
       "</tr>\n",
       "<tr>\n",
       "  <th>format_ol</th> <td>   -4.9122</td> <td>    1.680</td> <td>   -2.925</td> <td> 0.004</td> <td>   -8.223</td> <td>   -1.601</td>\n",
       "</tr>\n",
       "</table>"
      ],
      "text/latex": [
       "\\begin{center}\n",
       "\\begin{tabular}{lcccccc}\n",
       "\\toprule\n",
       "                    & \\textbf{coef} & \\textbf{std err} & \\textbf{t} & \\textbf{P$> |$t$|$} & \\textbf{[0.025} & \\textbf{0.975]}  \\\\\n",
       "\\midrule\n",
       "\\textbf{Intercept}  &      78.5475  &        1.113     &    70.563  &         0.000        &       76.353    &       80.742     \\\\\n",
       "\\textbf{format\\_ol} &      -4.9122  &        1.680     &    -2.925  &         0.004        &       -8.223    &       -1.601     \\\\\n",
       "\\bottomrule\n",
       "\\end{tabular}\n",
       "\\end{center}"
      ],
      "text/plain": [
       "<class 'statsmodels.iolib.table.SimpleTable'>"
      ]
     },
     "execution_count": 3,
     "metadata": {},
     "output_type": "execute_result"
    }
   ],
   "source": [
    "result = smf.ols('falsexam ~ format_ol', data=data).fit()\n",
    "result.summary().tables[1]"
   ]
  },
  {
   "cell_type": "code",
   "execution_count": 4,
   "id": "7fb056a6-7eb1-4b71-884f-9f57f47721fc",
   "metadata": {},
   "outputs": [
    {
     "data": {
      "text/plain": [
       "format_ol\n",
       "0    78.547485\n",
       "1    73.635263\n",
       "Name: falsexam, dtype: float64"
      ]
     },
     "execution_count": 4,
     "metadata": {},
     "output_type": "execute_result"
    }
   ],
   "source": [
    "(data\n",
    " .groupby(\"format_ol\")\n",
    " [\"falsexam\"]\n",
    " .mean())"
   ]
  },
  {
   "cell_type": "markdown",
   "id": "ac48016a-fefc-4bb7-aa58-2cbe4812bf21",
   "metadata": {},
   "source": [
    "intercept is $\\mathbb{E}[Y|T=0]$"
   ]
  },
  {
   "cell_type": "code",
   "execution_count": 5,
   "id": "abaea2c7-b19e-4079-aca1-b403383691af",
   "metadata": {},
   "outputs": [
    {
     "data": {
      "text/plain": [
       "73.635285"
      ]
     },
     "execution_count": 5,
     "metadata": {},
     "output_type": "execute_result"
    }
   ],
   "source": [
    "# add intercept and parameter estimate to get ATE :\n",
    "(78.547485) + (-4.9122)"
   ]
  },
  {
   "cell_type": "markdown",
   "id": "84b21e91-6d84-4a98-8664-8fe630bfeb74",
   "metadata": {},
   "source": [
    "ALternate way to estimate parameter, derived from regression formula:"
   ]
  },
  {
   "cell_type": "code",
   "execution_count": 6,
   "id": "6b701b53-0bed-4d39-be18-5611f820622f",
   "metadata": {},
   "outputs": [
    {
     "data": {
      "text/plain": [
       "-4.912221498226949"
      ]
     },
     "execution_count": 6,
     "metadata": {},
     "output_type": "execute_result"
    }
   ],
   "source": [
    "kapa = data[\"falsexam\"].cov(data[\"format_ol\"]) / data[\"format_ol\"].var()\n",
    "kapa"
   ]
  },
  {
   "cell_type": "markdown",
   "id": "53565f3e-9878-4fd1-96dc-8030eb8da745",
   "metadata": {},
   "source": [
    "Remember if T randomly assigned, kappa is the ATE"
   ]
  },
  {
   "cell_type": "markdown",
   "id": "f711fbe4-14b0-44f3-b2dc-5efedc625fea",
   "metadata": {},
   "source": [
    "For multiple regression with other variables auxilory reduces to a bivariate coefficient of the same regressor after accounting for affects of other variables:\n",
    "1. Fit auxilory variables to response and find residual\n",
    "2. Bivariate regression for treatment\n",
    "\n",
    "(residuals orthogonal to vaqriables that created it )"
   ]
  },
  {
   "cell_type": "markdown",
   "id": "9feb5c99-1592-47ce-815f-73d7cc7e1ac0",
   "metadata": {},
   "source": [
    "# Observational Data "
   ]
  },
  {
   "cell_type": "code",
   "execution_count": 9,
   "id": "6dca4d4c-c11b-4675-9c55-2850997e0c8b",
   "metadata": {},
   "outputs": [
    {
     "data": {
      "text/html": [
       "<table class=\"simpletable\">\n",
       "<tr>\n",
       "      <td></td>         <th>coef</th>     <th>std err</th>      <th>t</th>      <th>P>|t|</th>  <th>[0.025</th>    <th>0.975]</th>  \n",
       "</tr>\n",
       "<tr>\n",
       "  <th>Intercept</th> <td>    2.3071</td> <td>    0.104</td> <td>   22.089</td> <td> 0.000</td> <td>    2.102</td> <td>    2.512</td>\n",
       "</tr>\n",
       "<tr>\n",
       "  <th>educ</th>      <td>    0.0536</td> <td>    0.008</td> <td>    7.114</td> <td> 0.000</td> <td>    0.039</td> <td>    0.068</td>\n",
       "</tr>\n",
       "</table>"
      ],
      "text/latex": [
       "\\begin{center}\n",
       "\\begin{tabular}{lcccccc}\n",
       "\\toprule\n",
       "                   & \\textbf{coef} & \\textbf{std err} & \\textbf{t} & \\textbf{P$> |$t$|$} & \\textbf{[0.025} & \\textbf{0.975]}  \\\\\n",
       "\\midrule\n",
       "\\textbf{Intercept} &       2.3071  &        0.104     &    22.089  &         0.000        &        2.102    &        2.512     \\\\\n",
       "\\textbf{educ}      &       0.0536  &        0.008     &     7.114  &         0.000        &        0.039    &        0.068     \\\\\n",
       "\\bottomrule\n",
       "\\end{tabular}\n",
       "\\end{center}"
      ],
      "text/plain": [
       "<class 'statsmodels.iolib.table.SimpleTable'>"
      ]
     },
     "execution_count": 9,
     "metadata": {},
     "output_type": "execute_result"
    }
   ],
   "source": [
    "wage = load(\"wage.csv\").dropna()\n",
    "model_1 = smf.ols('np.log(hwage) ~ educ', data=wage.assign(hwage=wage[\"wage\"]/wage[\"hours\"])).fit()\n",
    "model_1.summary().tables[1]"
   ]
  },
  {
   "cell_type": "markdown",
   "id": "f023c167-a4cf-46a0-967e-00f5d62603cd",
   "metadata": {},
   "source": [
    "coefficient of 0.0536 on natural log scale means treatement of 1 year extra education (T=1) increases wages by 5.36%"
   ]
  },
  {
   "cell_type": "code",
   "execution_count": 10,
   "id": "353bdf62-a29c-4240-a3a7-5548b326326e",
   "metadata": {},
   "outputs": [
    {
     "data": {
      "image/png": "[encoded data removed]",
      "text/plain": [
       "<Figure size 640x480 with 1 Axes>"
      ]
     },
     "metadata": {},
     "output_type": "display_data"
    }
   ],
   "source": [
    "from matplotlib import pyplot as plt\n",
    "\n",
    "x = np.array(range(5, 20))\n",
    "plt.plot(x, np.exp(model_1.params[\"Intercept\"] + model_1.params[\"educ\"] * x))\n",
    "plt.xlabel(\"Years of Education\")\n",
    "plt.ylabel(\"Hourly Wage\")\n",
    "plt.title(\"Impact of Education on Hourly Wage\")\n",
    "plt.show()"
   ]
  },
  {
   "cell_type": "markdown",
   "id": "0b303fb6-2885-49ec-9b51-c49a6c435048",
   "metadata": {},
   "source": [
    "This is purely a prediction model. We can't infer much causality from it. Prediction and causality are two very different things.\n",
    "\n",
    "With this data we can assume $\\mathbb{E}[Y^0 | T = 0 ] < \\mathbb{E}[Y^0 | T = 1 ]$ or that educated/treated have a higher baseline maybe due to family wealth. To attempt to find some causal relationship we must control on other variables in the data "
   ]
  },
  {
   "cell_type": "code",
   "execution_count": 11,
   "id": "eb70e026-0632-4216-8709-136ee8fb62e3",
   "metadata": {},
   "outputs": [
    {
     "data": {
      "text/html": [
       "<div>\n",
       "<style scoped>\n",
       "    .dataframe tbody tr th:only-of-type {\n",
       "        vertical-align: middle;\n",
       "    }\n",
       "\n",
       "    .dataframe tbody tr th {\n",
       "        vertical-align: top;\n",
       "    }\n",
       "\n",
       "    .dataframe thead th {\n",
       "        text-align: right;\n",
       "    }\n",
       "</style>\n",
       "<table border=\"1\" class=\"dataframe\">\n",
       "  <thead>\n",
       "    <tr style=\"text-align: right;\">\n",
       "      <th></th>\n",
       "      <th>wage</th>\n",
       "      <th>hours</th>\n",
       "      <th>lhwage</th>\n",
       "      <th>IQ</th>\n",
       "      <th>educ</th>\n",
       "      <th>exper</th>\n",
       "      <th>tenure</th>\n",
       "      <th>age</th>\n",
       "      <th>married</th>\n",
       "      <th>black</th>\n",
       "      <th>south</th>\n",
       "      <th>urban</th>\n",
       "      <th>sibs</th>\n",
       "      <th>brthord</th>\n",
       "      <th>meduc</th>\n",
       "      <th>feduc</th>\n",
       "    </tr>\n",
       "  </thead>\n",
       "  <tbody>\n",
       "    <tr>\n",
       "      <th>0</th>\n",
       "      <td>769</td>\n",
       "      <td>40</td>\n",
       "      <td>2.956212</td>\n",
       "      <td>93</td>\n",
       "      <td>12</td>\n",
       "      <td>11</td>\n",
       "      <td>2</td>\n",
       "      <td>31</td>\n",
       "      <td>1</td>\n",
       "      <td>0</td>\n",
       "      <td>0</td>\n",
       "      <td>1</td>\n",
       "      <td>1</td>\n",
       "      <td>2.0</td>\n",
       "      <td>8.0</td>\n",
       "      <td>8.0</td>\n",
       "    </tr>\n",
       "    <tr>\n",
       "      <th>2</th>\n",
       "      <td>825</td>\n",
       "      <td>40</td>\n",
       "      <td>3.026504</td>\n",
       "      <td>108</td>\n",
       "      <td>14</td>\n",
       "      <td>11</td>\n",
       "      <td>9</td>\n",
       "      <td>33</td>\n",
       "      <td>1</td>\n",
       "      <td>0</td>\n",
       "      <td>0</td>\n",
       "      <td>1</td>\n",
       "      <td>1</td>\n",
       "      <td>2.0</td>\n",
       "      <td>14.0</td>\n",
       "      <td>14.0</td>\n",
       "    </tr>\n",
       "    <tr>\n",
       "      <th>3</th>\n",
       "      <td>650</td>\n",
       "      <td>40</td>\n",
       "      <td>2.788093</td>\n",
       "      <td>96</td>\n",
       "      <td>12</td>\n",
       "      <td>13</td>\n",
       "      <td>7</td>\n",
       "      <td>32</td>\n",
       "      <td>1</td>\n",
       "      <td>0</td>\n",
       "      <td>0</td>\n",
       "      <td>1</td>\n",
       "      <td>4</td>\n",
       "      <td>3.0</td>\n",
       "      <td>12.0</td>\n",
       "      <td>12.0</td>\n",
       "    </tr>\n",
       "    <tr>\n",
       "      <th>4</th>\n",
       "      <td>562</td>\n",
       "      <td>40</td>\n",
       "      <td>2.642622</td>\n",
       "      <td>74</td>\n",
       "      <td>11</td>\n",
       "      <td>14</td>\n",
       "      <td>5</td>\n",
       "      <td>34</td>\n",
       "      <td>1</td>\n",
       "      <td>0</td>\n",
       "      <td>0</td>\n",
       "      <td>1</td>\n",
       "      <td>10</td>\n",
       "      <td>6.0</td>\n",
       "      <td>6.0</td>\n",
       "      <td>11.0</td>\n",
       "    </tr>\n",
       "    <tr>\n",
       "      <th>6</th>\n",
       "      <td>600</td>\n",
       "      <td>40</td>\n",
       "      <td>2.708050</td>\n",
       "      <td>91</td>\n",
       "      <td>10</td>\n",
       "      <td>13</td>\n",
       "      <td>0</td>\n",
       "      <td>30</td>\n",
       "      <td>0</td>\n",
       "      <td>0</td>\n",
       "      <td>0</td>\n",
       "      <td>1</td>\n",
       "      <td>1</td>\n",
       "      <td>2.0</td>\n",
       "      <td>8.0</td>\n",
       "      <td>8.0</td>\n",
       "    </tr>\n",
       "  </tbody>\n",
       "</table>\n",
       "</div>"
      ],
      "text/plain": [
       "   wage  hours    lhwage   IQ  educ  exper  tenure  age  married  black  \\\n",
       "0   769     40  2.956212   93    12     11       2   31        1      0   \n",
       "2   825     40  3.026504  108    14     11       9   33        1      0   \n",
       "3   650     40  2.788093   96    12     13       7   32        1      0   \n",
       "4   562     40  2.642622   74    11     14       5   34        1      0   \n",
       "6   600     40  2.708050   91    10     13       0   30        0      0   \n",
       "\n",
       "   south  urban  sibs  brthord  meduc  feduc  \n",
       "0      0      1     1      2.0    8.0    8.0  \n",
       "2      0      1     1      2.0   14.0   14.0  \n",
       "3      0      1     4      3.0   12.0   12.0  \n",
       "4      0      1    10      6.0    6.0   11.0  \n",
       "6      0      1     1      2.0    8.0    8.0  "
      ]
     },
     "execution_count": 11,
     "metadata": {},
     "output_type": "execute_result"
    }
   ],
   "source": [
    "wage.head()"
   ]
  },
  {
   "cell_type": "code",
   "execution_count": 12,
   "id": "d69d285e-e55d-4dde-9028-a0d53b9ec0f5",
   "metadata": {},
   "outputs": [
    {
     "data": {
      "text/plain": [
       "array([ 0.05856182, -0.23207639,  0.01165998,  0.20166154, -0.15743669,\n",
       "        0.66079   ,  0.20307728,  0.18274787, -0.05397904,  0.01139721,\n",
       "        0.05796792,  0.11222276,  1.82720507])"
      ]
     },
     "execution_count": 12,
     "metadata": {},
     "output_type": "execute_result"
    }
   ],
   "source": [
    "def regress(y, X): \n",
    "    return np.linalg.inv(X.T.dot(X)).dot(X.T.dot(y))\n",
    "    \n",
    "controls = ['IQ', 'exper', 'tenure', 'age', 'married', 'black',\n",
    "            'south', 'urban', 'sibs', 'brthord', 'meduc', 'feduc']\n",
    "\n",
    "X = wage[controls].assign(intercep=1)\n",
    "t = wage[\"educ\"]\n",
    "y = wage[\"lhwage\"]\n",
    "\n",
    "beta_aux = regress(t, X)\n",
    "beta_aux # holds coeeficient for auxillary parameters"
   ]
  },
  {
   "cell_type": "code",
   "execution_count": 13,
   "id": "2ee6c269-3db4-45c8-8c78-ce868f862660",
   "metadata": {},
   "outputs": [
    {
     "data": {
      "text/plain": [
       "0.041147191010059134"
      ]
     },
     "execution_count": 13,
     "metadata": {},
     "output_type": "execute_result"
    }
   ],
   "source": [
    "t_tilde = t - X.dot(beta_aux)\n",
    "\n",
    "kappa = t_tilde.cov(y) / t_tilde.var()\n",
    "kappa"
   ]
  },
  {
   "cell_type": "markdown",
   "id": "8c47e318-4b7e-431e-b67e-9731248c10ab",
   "metadata": {},
   "source": [
    "THis coeffeicent 0.04 says that for units with the same control we expect an extra year of education (treament =1 ) to have 4.11% inc in wage"
   ]
  },
  {
   "cell_type": "code",
   "execution_count": 14,
   "id": "75064699-76c3-4d21-8e36-b6ef140e1fbf",
   "metadata": {},
   "outputs": [
    {
     "data": {
      "text/html": [
       "<table class=\"simpletable\">\n",
       "<tr>\n",
       "      <td></td>         <th>coef</th>     <th>std err</th>      <th>t</th>      <th>P>|t|</th>  <th>[0.025</th>    <th>0.975]</th>  \n",
       "</tr>\n",
       "<tr>\n",
       "  <th>Intercept</th> <td>    1.1156</td> <td>    0.232</td> <td>    4.802</td> <td> 0.000</td> <td>    0.659</td> <td>    1.572</td>\n",
       "</tr>\n",
       "<tr>\n",
       "  <th>educ</th>      <td>    0.0411</td> <td>    0.010</td> <td>    4.075</td> <td> 0.000</td> <td>    0.021</td> <td>    0.061</td>\n",
       "</tr>\n",
       "<tr>\n",
       "  <th>IQ</th>        <td>    0.0038</td> <td>    0.001</td> <td>    2.794</td> <td> 0.005</td> <td>    0.001</td> <td>    0.006</td>\n",
       "</tr>\n",
       "<tr>\n",
       "  <th>exper</th>     <td>    0.0153</td> <td>    0.005</td> <td>    3.032</td> <td> 0.003</td> <td>    0.005</td> <td>    0.025</td>\n",
       "</tr>\n",
       "<tr>\n",
       "  <th>tenure</th>    <td>    0.0094</td> <td>    0.003</td> <td>    2.836</td> <td> 0.005</td> <td>    0.003</td> <td>    0.016</td>\n",
       "</tr>\n",
       "<tr>\n",
       "  <th>age</th>       <td>    0.0086</td> <td>    0.006</td> <td>    1.364</td> <td> 0.173</td> <td>   -0.004</td> <td>    0.021</td>\n",
       "</tr>\n",
       "<tr>\n",
       "  <th>married</th>   <td>    0.1795</td> <td>    0.053</td> <td>    3.415</td> <td> 0.001</td> <td>    0.076</td> <td>    0.283</td>\n",
       "</tr>\n",
       "<tr>\n",
       "  <th>black</th>     <td>   -0.0801</td> <td>    0.063</td> <td>   -1.263</td> <td> 0.207</td> <td>   -0.205</td> <td>    0.044</td>\n",
       "</tr>\n",
       "<tr>\n",
       "  <th>south</th>     <td>   -0.0397</td> <td>    0.035</td> <td>   -1.129</td> <td> 0.259</td> <td>   -0.109</td> <td>    0.029</td>\n",
       "</tr>\n",
       "<tr>\n",
       "  <th>urban</th>     <td>    0.1926</td> <td>    0.036</td> <td>    5.418</td> <td> 0.000</td> <td>    0.123</td> <td>    0.262</td>\n",
       "</tr>\n",
       "<tr>\n",
       "  <th>sibs</th>      <td>    0.0065</td> <td>    0.009</td> <td>    0.722</td> <td> 0.470</td> <td>   -0.011</td> <td>    0.024</td>\n",
       "</tr>\n",
       "<tr>\n",
       "  <th>brthord</th>   <td>   -0.0080</td> <td>    0.013</td> <td>   -0.604</td> <td> 0.546</td> <td>   -0.034</td> <td>    0.018</td>\n",
       "</tr>\n",
       "<tr>\n",
       "  <th>meduc</th>     <td>    0.0089</td> <td>    0.007</td> <td>    1.265</td> <td> 0.206</td> <td>   -0.005</td> <td>    0.023</td>\n",
       "</tr>\n",
       "<tr>\n",
       "  <th>feduc</th>     <td>    0.0069</td> <td>    0.006</td> <td>    1.113</td> <td> 0.266</td> <td>   -0.005</td> <td>    0.019</td>\n",
       "</tr>\n",
       "</table>"
      ],
      "text/latex": [
       "\\begin{center}\n",
       "\\begin{tabular}{lcccccc}\n",
       "\\toprule\n",
       "                   & \\textbf{coef} & \\textbf{std err} & \\textbf{t} & \\textbf{P$> |$t$|$} & \\textbf{[0.025} & \\textbf{0.975]}  \\\\\n",
       "\\midrule\n",
       "\\textbf{Intercept} &       1.1156  &        0.232     &     4.802  &         0.000        &        0.659    &        1.572     \\\\\n",
       "\\textbf{educ}      &       0.0411  &        0.010     &     4.075  &         0.000        &        0.021    &        0.061     \\\\\n",
       "\\textbf{IQ}        &       0.0038  &        0.001     &     2.794  &         0.005        &        0.001    &        0.006     \\\\\n",
       "\\textbf{exper}     &       0.0153  &        0.005     &     3.032  &         0.003        &        0.005    &        0.025     \\\\\n",
       "\\textbf{tenure}    &       0.0094  &        0.003     &     2.836  &         0.005        &        0.003    &        0.016     \\\\\n",
       "\\textbf{age}       &       0.0086  &        0.006     &     1.364  &         0.173        &       -0.004    &        0.021     \\\\\n",
       "\\textbf{married}   &       0.1795  &        0.053     &     3.415  &         0.001        &        0.076    &        0.283     \\\\\n",
       "\\textbf{black}     &      -0.0801  &        0.063     &    -1.263  &         0.207        &       -0.205    &        0.044     \\\\\n",
       "\\textbf{south}     &      -0.0397  &        0.035     &    -1.129  &         0.259        &       -0.109    &        0.029     \\\\\n",
       "\\textbf{urban}     &       0.1926  &        0.036     &     5.418  &         0.000        &        0.123    &        0.262     \\\\\n",
       "\\textbf{sibs}      &       0.0065  &        0.009     &     0.722  &         0.470        &       -0.011    &        0.024     \\\\\n",
       "\\textbf{brthord}   &      -0.0080  &        0.013     &    -0.604  &         0.546        &       -0.034    &        0.018     \\\\\n",
       "\\textbf{meduc}     &       0.0089  &        0.007     &     1.265  &         0.206        &       -0.005    &        0.023     \\\\\n",
       "\\textbf{feduc}     &       0.0069  &        0.006     &     1.113  &         0.266        &       -0.005    &        0.019     \\\\\n",
       "\\bottomrule\n",
       "\\end{tabular}\n",
       "\\end{center}"
      ],
      "text/plain": [
       "<class 'statsmodels.iolib.table.SimpleTable'>"
      ]
     },
     "execution_count": 14,
     "metadata": {},
     "output_type": "execute_result"
    }
   ],
   "source": [
    "# samething with statmodels so we get some nice confidence \n",
    "model_2 = smf.ols('lhwage ~ educ +' + '+'.join(controls), data=wage).fit()\n",
    "model_2.summary().tables[1]"
   ]
  },
  {
   "cell_type": "markdown",
   "id": "3cef1008-3734-4da6-9f18-4b6249fab188",
   "metadata": {},
   "source": [
    "To argue causation we must argue we have controlled for everything that requires controlling "
   ]
  },
  {
   "cell_type": "markdown",
   "id": "23c26cbd-af35-4e6f-8848-0efab7ac7b3d",
   "metadata": {},
   "source": [
    "Formally we have ommited 'ability factors '"
   ]
  },
  {
   "cell_type": "markdown",
   "id": "9eb14911-3bbb-4083-8319-8dd41b6ab50c",
   "metadata": {},
   "source": [
    "\"Short equals long \n",
    "plus the effect of omitted,\n",
    "times the regression of omitted on included\""
   ]
  },
  {
   "cell_type": "code",
   "execution_count": 15,
   "id": "d02e27d6-8dbb-40a6-963e-690a5e6cb7cc",
   "metadata": {},
   "outputs": [],
   "source": [
    "import graphviz as gr"
   ]
  },
  {
   "cell_type": "code",
   "execution_count": 16,
   "id": "fb3c3489-71f6-4216-91b6-8a0f85ad962e",
   "metadata": {},
   "outputs": [
    {
     "data": {
      "image/svg+xml": [
       "<?xml version=\"1.0\" encoding=\"UTF-8\" standalone=\"no\"?>\n",
       "<!DOCTYPE svg PUBLIC \"-//W3C//DTD SVG 1.1//EN\"\n",
       " \"http://www.w3.org/Graphics/SVG/1.1/DTD/svg11.dtd\">\n",
       "<!-- Generated by graphviz version 9.0.0 (20230911.1827)\n",
       " -->\n",
       "<!-- Pages: 1 -->\n",
       "<svg width=\"352pt\" height=\"188pt\"\n",
       " viewBox=\"0.00 0.00 352.19 188.00\" xmlns=\"http://www.w3.org/2000/svg\" xmlns:xlink=\"http://www.w3.org/1999/xlink\">\n",
       "<g id=\"graph0\" class=\"graph\" transform=\"scale(1 1) rotate(0) translate(4 184)\">\n",
       "<polygon fill=\"white\" stroke=\"none\" points=\"-4,4 -4,-184 348.19,-184 348.19,4 -4,4\"/>\n",
       "<!-- W -->\n",
       "<g id=\"node1\" class=\"node\">\n",
       "<title>W</title>\n",
       "<ellipse fill=\"none\" stroke=\"black\" cx=\"69\" cy=\"-162\" rx=\"27\" ry=\"18\"/>\n",
       "<text text-anchor=\"middle\" x=\"69\" y=\"-156.95\" font-family=\"Times,serif\" font-size=\"14.00\">W</text>\n",
       "</g>\n",
       "<!-- T -->\n",
       "<g id=\"node2\" class=\"node\">\n",
       "<title>T</title>\n",
       "<ellipse fill=\"none\" stroke=\"black\" cx=\"27\" cy=\"-90\" rx=\"27\" ry=\"18\"/>\n",
       "<text text-anchor=\"middle\" x=\"27\" y=\"-84.95\" font-family=\"Times,serif\" font-size=\"14.00\">T</text>\n",
       "</g>\n",
       "<!-- W&#45;&gt;T -->\n",
       "<g id=\"edge1\" class=\"edge\">\n",
       "<title>W&#45;&gt;T</title>\n",
       "<path fill=\"none\" stroke=\"black\" d=\"M59.26,-144.76C54.28,-136.46 48.09,-126.15 42.48,-116.79\"/>\n",
       "<polygon fill=\"black\" stroke=\"black\" points=\"45.61,-115.22 37.47,-108.45 39.61,-118.82 45.61,-115.22\"/>\n",
       "</g>\n",
       "<!-- Y -->\n",
       "<g id=\"node3\" class=\"node\">\n",
       "<title>Y</title>\n",
       "<ellipse fill=\"none\" stroke=\"black\" cx=\"62\" cy=\"-18\" rx=\"27\" ry=\"18\"/>\n",
       "<text text-anchor=\"middle\" x=\"62\" y=\"-12.95\" font-family=\"Times,serif\" font-size=\"14.00\">Y</text>\n",
       "</g>\n",
       "<!-- W&#45;&gt;Y -->\n",
       "<g id=\"edge2\" class=\"edge\">\n",
       "<title>W&#45;&gt;Y</title>\n",
       "<path fill=\"none\" stroke=\"black\" d=\"M68.14,-143.59C66.96,-119.61 64.82,-76.14 63.4,-47.42\"/>\n",
       "<polygon fill=\"black\" stroke=\"black\" points=\"66.91,-47.44 62.92,-37.62 59.91,-47.78 66.91,-47.44\"/>\n",
       "</g>\n",
       "<!-- T&#45;&gt;Y -->\n",
       "<g id=\"edge3\" class=\"edge\">\n",
       "<title>T&#45;&gt;Y</title>\n",
       "<path fill=\"none\" stroke=\"black\" d=\"M35.29,-72.41C39.3,-64.39 44.22,-54.57 48.73,-45.54\"/>\n",
       "<polygon fill=\"black\" stroke=\"black\" points=\"51.75,-47.33 53.09,-36.82 45.49,-44.2 51.75,-47.33\"/>\n",
       "</g>\n",
       "<!-- IQ -->\n",
       "<g id=\"node4\" class=\"node\">\n",
       "<title>IQ</title>\n",
       "<ellipse fill=\"none\" stroke=\"black\" cx=\"161\" cy=\"-162\" rx=\"27\" ry=\"18\"/>\n",
       "<text text-anchor=\"middle\" x=\"161\" y=\"-156.95\" font-family=\"Times,serif\" font-size=\"14.00\">IQ</text>\n",
       "</g>\n",
       "<!-- Educ -->\n",
       "<g id=\"node5\" class=\"node\">\n",
       "<title>Educ</title>\n",
       "<ellipse fill=\"none\" stroke=\"black\" cx=\"149\" cy=\"-90\" rx=\"29.86\" ry=\"18\"/>\n",
       "<text text-anchor=\"middle\" x=\"149\" y=\"-84.95\" font-family=\"Times,serif\" font-size=\"14.00\">Educ</text>\n",
       "</g>\n",
       "<!-- IQ&#45;&gt;Educ -->\n",
       "<g id=\"edge4\" class=\"edge\">\n",
       "<title>IQ&#45;&gt;Educ</title>\n",
       "<path fill=\"none\" stroke=\"red\" d=\"M158.03,-143.7C156.77,-136.32 155.26,-127.52 153.84,-119.25\"/>\n",
       "<polygon fill=\"red\" stroke=\"red\" points=\"157.33,-118.86 152.19,-109.6 150.43,-120.04 157.33,-118.86\"/>\n",
       "</g>\n",
       "<!-- Wage -->\n",
       "<g id=\"node6\" class=\"node\">\n",
       "<title>Wage</title>\n",
       "<ellipse fill=\"none\" stroke=\"black\" cx=\"161\" cy=\"-18\" rx=\"32.41\" ry=\"18\"/>\n",
       "<text text-anchor=\"middle\" x=\"161\" y=\"-12.95\" font-family=\"Times,serif\" font-size=\"14.00\">Wage</text>\n",
       "</g>\n",
       "<!-- IQ&#45;&gt;Wage -->\n",
       "<g id=\"edge5\" class=\"edge\">\n",
       "<title>IQ&#45;&gt;Wage</title>\n",
       "<path fill=\"none\" stroke=\"red\" d=\"M171.63,-145.07C177.74,-134.93 184.82,-121.25 188,-108 191.73,-92.44 191.73,-87.56 188,-72 185.8,-62.82 181.72,-53.44 177.4,-45.17\"/>\n",
       "<polygon fill=\"red\" stroke=\"red\" points=\"180.6,-43.72 172.65,-36.71 174.49,-47.14 180.6,-43.72\"/>\n",
       "</g>\n",
       "<!-- Educ&#45;&gt;Wage -->\n",
       "<g id=\"edge6\" class=\"edge\">\n",
       "<title>Educ&#45;&gt;Wage</title>\n",
       "<path fill=\"none\" stroke=\"red\" d=\"M151.97,-71.7C153.23,-64.32 154.74,-55.52 156.16,-47.25\"/>\n",
       "<polygon fill=\"red\" stroke=\"red\" points=\"159.57,-48.04 157.81,-37.6 152.67,-46.86 159.57,-48.04\"/>\n",
       "</g>\n",
       "<!-- Crime -->\n",
       "<g id=\"node7\" class=\"node\">\n",
       "<title>Crime</title>\n",
       "<ellipse fill=\"none\" stroke=\"black\" cx=\"300\" cy=\"-162\" rx=\"34.46\" ry=\"18\"/>\n",
       "<text text-anchor=\"middle\" x=\"300\" y=\"-156.95\" font-family=\"Times,serif\" font-size=\"14.00\">Crime</text>\n",
       "</g>\n",
       "<!-- Police -->\n",
       "<g id=\"node8\" class=\"node\">\n",
       "<title>Police</title>\n",
       "<ellipse fill=\"none\" stroke=\"black\" cx=\"269\" cy=\"-90\" rx=\"33.95\" ry=\"18\"/>\n",
       "<text text-anchor=\"middle\" x=\"269\" y=\"-84.95\" font-family=\"Times,serif\" font-size=\"14.00\">Police</text>\n",
       "</g>\n",
       "<!-- Crime&#45;&gt;Police -->\n",
       "<g id=\"edge7\" class=\"edge\">\n",
       "<title>Crime&#45;&gt;Police</title>\n",
       "<path fill=\"none\" stroke=\"red\" d=\"M292.5,-144.05C289.07,-136.32 284.92,-126.96 281.08,-118.27\"/>\n",
       "<polygon fill=\"red\" stroke=\"red\" points=\"284.3,-116.9 277.05,-109.17 277.9,-119.73 284.3,-116.9\"/>\n",
       "</g>\n",
       "<!-- Violence -->\n",
       "<g id=\"node9\" class=\"node\">\n",
       "<title>Violence</title>\n",
       "<ellipse fill=\"none\" stroke=\"black\" cx=\"300\" cy=\"-18\" rx=\"44.19\" ry=\"18\"/>\n",
       "<text text-anchor=\"middle\" x=\"300\" y=\"-12.95\" font-family=\"Times,serif\" font-size=\"14.00\">Violence</text>\n",
       "</g>\n",
       "<!-- Crime&#45;&gt;Violence -->\n",
       "<g id=\"edge8\" class=\"edge\">\n",
       "<title>Crime&#45;&gt;Violence</title>\n",
       "<path fill=\"none\" stroke=\"red\" d=\"M304.87,-143.98C307.56,-133.67 310.64,-120.19 312,-108 313.78,-92.1 313.78,-87.9 312,-72 311.08,-63.81 309.4,-55.04 307.57,-47.04\"/>\n",
       "<polygon fill=\"red\" stroke=\"red\" points=\"311.01,-46.37 305.23,-37.49 304.21,-48.04 311.01,-46.37\"/>\n",
       "</g>\n",
       "<!-- Police&#45;&gt;Violence -->\n",
       "<g id=\"edge9\" class=\"edge\">\n",
       "<title>Police&#45;&gt;Violence</title>\n",
       "<path fill=\"none\" stroke=\"blue\" d=\"M276.5,-72.05C279.93,-64.32 284.08,-54.96 287.92,-46.27\"/>\n",
       "<polygon fill=\"blue\" stroke=\"blue\" points=\"291.1,-47.73 291.95,-37.17 284.7,-44.9 291.1,-47.73\"/>\n",
       "</g>\n",
       "</g>\n",
       "</svg>\n"
      ],
      "text/plain": [
       "<graphviz.graphs.Digraph at 0x15dbace00>"
      ]
     },
     "execution_count": 16,
     "metadata": {},
     "output_type": "execute_result"
    }
   ],
   "source": [
    "g = gr.Digraph()\n",
    "\n",
    "g.edge(\"W\", \"T\"), g.edge(\"W\", \"Y\"), g.edge(\"T\", \"Y\")\n",
    "\n",
    "g.edge(\"IQ\", \"Educ\", color=\"red\"), g.edge(\"IQ\", \"Wage\", color=\"red\"), g.edge(\"Educ\", \"Wage\", color=\"red\")\n",
    "\n",
    "g.edge(\"Crime\", \"Police\", color=\"red\"), g.edge(\"Crime\", \"Violence\", color=\"red\"), \n",
    "g.edge(\"Police\", \"Violence\", color=\"blue\")\n",
    "\n",
    "g"
   ]
  },
  {
   "cell_type": "code",
   "execution_count": null,
   "id": "15c07fd0-291f-47e2-8237-3c6819f1c41f",
   "metadata": {},
   "outputs": [],
   "source": []
  },
  {
   "cell_type": "code",
   "execution_count": null,
   "id": "011498a7-f206-4e72-94e3-aecbe2b88c22",
   "metadata": {},
   "outputs": [],
   "source": []
  },
  {
   "cell_type": "code",
   "execution_count": null,
   "id": "ef5d1aa0-0ead-4b94-afac-88bcd6076918",
   "metadata": {},
   "outputs": [],
   "source": []
  }
 ],
 "metadata": {
  "kernelspec": {
   "display_name": "Python 3 (ipykernel)",
   "language": "python",
   "name": "python3"
  },
  "language_info": {
   "codemirror_mode": {
    "name": "ipython",
    "version": 3
   },
   "file_extension": ".py",
   "mimetype": "text/x-python",
   "name": "python",
   "nbconvert_exporter": "python",
   "pygments_lexer": "ipython3",
   "version": "3.12.2"
  }
 },
 "nbformat": 4,
 "nbformat_minor": 5
}
